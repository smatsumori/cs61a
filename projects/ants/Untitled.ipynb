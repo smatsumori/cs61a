{
 "cells": [
  {
   "cell_type": "code",
   "execution_count": 5,
   "metadata": {
    "collapsed": false
   },
   "outputs": [
    {
     "ename": "TypeError",
     "evalue": "'NoneType' object is not callable",
     "output_type": "error",
     "traceback": [
      "\u001b[0;31m---------------------------------------------------------------------------\u001b[0m",
      "\u001b[0;31mTypeError\u001b[0m                                 Traceback (most recent call last)",
      "\u001b[0;32m<ipython-input-5-6fd58a53cc65>\u001b[0m in \u001b[0;36m<module>\u001b[0;34m()\u001b[0m\n\u001b[1;32m     10\u001b[0m \u001b[0mslow\u001b[0m\u001b[0;34m.\u001b[0m\u001b[0maction\u001b[0m\u001b[0;34m(\u001b[0m\u001b[0mcolony\u001b[0m\u001b[0;34m)\u001b[0m\u001b[0;34m\u001b[0m\u001b[0m\n\u001b[1;32m     11\u001b[0m \u001b[0mcolony\u001b[0m\u001b[0;34m.\u001b[0m\u001b[0mtime\u001b[0m \u001b[0;34m=\u001b[0m \u001b[0;36m1\u001b[0m\u001b[0;34m\u001b[0m\u001b[0m\n\u001b[0;32m---> 12\u001b[0;31m \u001b[0mbee\u001b[0m\u001b[0;34m.\u001b[0m\u001b[0maction\u001b[0m\u001b[0;34m(\u001b[0m\u001b[0mcolony\u001b[0m\u001b[0;34m)\u001b[0m\u001b[0;34m\u001b[0m\u001b[0m\n\u001b[0m",
      "\u001b[0;32m/Users/smatsumori/cs61a/projects/ants/ants.py\u001b[0m in \u001b[0;36mget_action\u001b[0;34m(colony)\u001b[0m\n\u001b[1;32m    568\u001b[0m             \u001b[0mold_action\u001b[0m\u001b[0;34m(\u001b[0m\u001b[0mcolony\u001b[0m\u001b[0;34m)\u001b[0m\u001b[0;34m\u001b[0m\u001b[0m\n\u001b[1;32m    569\u001b[0m         \u001b[0;32melse\u001b[0m\u001b[0;34m:\u001b[0m\u001b[0;34m\u001b[0m\u001b[0m\n\u001b[0;32m--> 570\u001b[0;31m             \u001b[0mnew_action\u001b[0m\u001b[0;34m(\u001b[0m\u001b[0mcolony\u001b[0m\u001b[0;34m)\u001b[0m\u001b[0;34m\u001b[0m\u001b[0m\n\u001b[0m\u001b[1;32m    571\u001b[0m             \u001b[0mduration\u001b[0m \u001b[0;34m-=\u001b[0m \u001b[0;36m1\u001b[0m\u001b[0;34m\u001b[0m\u001b[0m\n\u001b[1;32m    572\u001b[0m \u001b[0;34m\u001b[0m\u001b[0m\n",
      "\u001b[0;31mTypeError\u001b[0m: 'NoneType' object is not callable"
     ]
    }
   ],
   "source": [
    ">>> from ants import *\n",
    ">>> hive, layout = Hive(AssaultPlan()), dry_layout\n",
    ">>> dimensions = (1, 9)\n",
    ">>> colony = AntColony(None, hive, ant_types(), layout, dimensions)\n",
    ">>> # Testing Slow\n",
    ">>> slow = SlowThrower()\n",
    ">>> bee = Bee(3)\n",
    ">>> colony.places[\"tunnel_0_0\"].add_insect(slow)\n",
    ">>> colony.places[\"tunnel_0_4\"].add_insect(bee)\n",
    ">>> slow.action(colony)\n",
    ">>> colony.time = 1\n",
    ">>> bee.action(colony)"
   ]
  },
  {
   "cell_type": "code",
   "execution_count": 3,
   "metadata": {
    "collapsed": false
   },
   "outputs": [],
   "source": [
    ">>> import ants, importlib\n",
    ">>> importlib.reload(ants)\n",
    ">>> hive = ants.Hive(ants.AssaultPlan())\n",
    ">>> dimensions = (2, 9)\n",
    ">>> colony = ants.AntColony(None, hive, ants.ant_types(),\n",
    "...         ants.dry_layout, dimensions)\n",
    ">>> # Extensive damage doubling tests\n",
    ">>> queen_tunnel, side_tunnel = [[colony.places['tunnel_{0}_{1}'.format(i, j)]\n",
    "...         for j in range(9)] for i in range(2)]\n",
    ">>> queen = ants.QueenAnt()\n",
    ">>> queen_tunnel[7].add_insect(queen)\n",
    ">>> # Turn 0\n",
    ">>> thrower = ants.ThrowerAnt()\n",
    ">>> fire = ants.FireAnt()\n",
    ">>> ninja = ants.NinjaAnt()\n",
    ">>> side = ants.ThrowerAnt()\n",
    ">>> front = ants.NinjaAnt()\n",
    ">>> queen_tunnel[0].add_insect(thrower)\n",
    ">>> queen_tunnel[1].add_insect(fire)\n",
    ">>> queen_tunnel[2].add_insect(ninja)\n",
    ">>> queen_tunnel[8].add_insect(front)\n",
    ">>> side_tunnel[0].add_insect(side)\n",
    ">>> buffed_ants = [thrower, fire, ninja]\n",
    ">>> old_dmgs = [ant.damage for ant in buffed_ants]\n",
    ">>> queen.action(colony)\n",
    ">>> for ant, dmg in zip(buffed_ants, old_dmgs):\n",
    "...     assert ant.damage == dmg * 2,\\\n",
    "...         \"{0}'s damage is {1}, but should be {2}\".format(ant, ant.damage, dmg * 2)\n",
    ">>> for ant in [side, front]:\n",
    "...     assert ant.damage == dmg,\\\n",
    "...         \"{0}'s damage is {1}, but should be {2}\".format(ant, ant.damage, dmg)\n",
    ">>> assert queen.damage == 1,\\\n",
    "...     'QueenAnt damage was modified to {0}'.format(ant.damage)\n",
    ">>> # Turn 1\n",
    ">>> tank = ants.TankAnt()\n",
    ">>> guard = ants.BodyguardAnt()\n",
    ">>> queen_tank = ants.TankAnt()\n",
    ">>> queen_tunnel[6].add_insect(tank)          # Not protecting an ant\n",
    ">>> queen_tunnel[1].add_insect(guard)         # Guarding FireAnt\n",
    ">>> queen_tunnel[7].add_insect(queen_tank)    # Guarding QueenAnt\n",
    ">>> buffed_ants.extend([tank, guard])\n",
    ">>> old_dmgs.extend([ant.damage for ant in [tank, guard, queen_tank]])\n",
    ">>> queen.action(colony)\n",
    ">>> for ant, dmg in zip(buffed_ants, old_dmgs):\n",
    "...     assert ant.damage == dmg * 2,\\\n",
    "...         \"{0}'s damage is {1}, but should be {2}\".format(ant, ant.damage, dmg * 2)\n",
    ">>> # Turn 2\n",
    ">>> thrower1 = ants.ThrowerAnt()\n",
    ">>> thrower2 = ants.ThrowerAnt()\n",
    ">>> queen_tunnel[6].add_insect(thrower1)      # Add thrower1 in TankAnt\n",
    ">>> queen_tunnel[5].add_insect(thrower2)\n",
    ">>> buffed_ants.extend([thrower1, thrower2])\n",
    ">>> old_dmgs.extend([ant.damage for ant in [thrower1, thrower2]])\n",
    ">>> queen.action(colony)\n",
    ">>> for ant, dmg in zip(buffed_ants, old_dmgs):\n",
    "...     assert ant.damage == dmg * 2,\\\n",
    "...         \"{0}'s damage is {1}, but should be {2}\".format(ant, ant.damage, dmg * 2)"
   ]
  },
  {
   "cell_type": "code",
   "execution_count": null,
   "metadata": {
    "collapsed": true
   },
   "outputs": [],
   "source": []
  }
 ],
 "metadata": {
  "kernelspec": {
   "display_name": "Python 3",
   "language": "python",
   "name": "python3"
  },
  "language_info": {
   "codemirror_mode": {
    "name": "ipython",
    "version": 3
   },
   "file_extension": ".py",
   "mimetype": "text/x-python",
   "name": "python",
   "nbconvert_exporter": "python",
   "pygments_lexer": "ipython3",
   "version": "3.5.1"
  }
 },
 "nbformat": 4,
 "nbformat_minor": 0
}
